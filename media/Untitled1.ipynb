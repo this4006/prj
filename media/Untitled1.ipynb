{
 "cells": [
  {
   "cell_type": "code",
   "execution_count": 2,
   "id": "65271155",
   "metadata": {},
   "outputs": [
    {
     "name": "stdout",
     "output_type": "stream",
     "text": [
      "      Academic_year  Semister_Attendence(%)  GPA  Annual_income  \\\n",
      "0              2018                      81  8.2    16145207.64   \n",
      "1              2018                      45  7.2     5853127.50   \n",
      "2              2018                      63  6.8     1980153.00   \n",
      "3              2018                      29  6.2      484010.00   \n",
      "4              2018                      67  5.7     2467465.28   \n",
      "...             ...                     ...  ...            ...   \n",
      "3038           2009                      38  5.7     3154000.00   \n",
      "3039           2009                      63  4.4    24445559.25   \n",
      "3040           2009                      91  5.8    16416035.09   \n",
      "3041           2009                      98  4.8    29942048.78   \n",
      "3042           2009                      64  9.1      313286.40   \n",
      "\n",
      "      Scholarship_Rupees  \n",
      "0              448477.99  \n",
      "1              130069.50  \n",
      "2               31431.00  \n",
      "3               16690.00  \n",
      "4               36827.84  \n",
      "...                  ...  \n",
      "3038            83000.00  \n",
      "3039           388024.75  \n",
      "3040           180395.99  \n",
      "3041           305531.11  \n",
      "3042             4895.10  \n",
      "\n",
      "[3043 rows x 5 columns]\n"
     ]
    }
   ],
   "source": [
    "import pandas as pd\n",
    "df = pd.read_csv(\"main.csv\")\n",
    "print(df)"
   ]
  },
  {
   "cell_type": "code",
   "execution_count": 4,
   "id": "16689595",
   "metadata": {},
   "outputs": [
    {
     "data": {
      "text/plain": [
       "(3043, 5)"
      ]
     },
     "execution_count": 4,
     "metadata": {},
     "output_type": "execute_result"
    }
   ],
   "source": [
    "df.shape"
   ]
  },
  {
   "cell_type": "code",
   "execution_count": 6,
   "id": "0269c863",
   "metadata": {},
   "outputs": [
    {
     "name": "stdout",
     "output_type": "stream",
     "text": [
      "<class 'pandas.core.frame.DataFrame'>\n",
      "RangeIndex: 3043 entries, 0 to 3042\n",
      "Data columns (total 5 columns):\n",
      " #   Column                  Non-Null Count  Dtype  \n",
      "---  ------                  --------------  -----  \n",
      " 0   Academic_year           3043 non-null   int64  \n",
      " 1   Semister_Attendence(%)  3043 non-null   int64  \n",
      " 2   GPA                     3043 non-null   float64\n",
      " 3   Annual_income           3043 non-null   float64\n",
      " 4   Scholarship_Rupees      3043 non-null   float64\n",
      "dtypes: float64(3), int64(2)\n",
      "memory usage: 119.0 KB\n"
     ]
    }
   ],
   "source": [
    "df.info()"
   ]
  },
  {
   "cell_type": "code",
   "execution_count": 13,
   "id": "028e5885",
   "metadata": {},
   "outputs": [
    {
     "name": "stdout",
     "output_type": "stream",
     "text": [
      "3043\n"
     ]
    }
   ],
   "source": [
    "print(df[\"GPA\"].count())"
   ]
  },
  {
   "cell_type": "code",
   "execution_count": 19,
   "id": "a24f679b",
   "metadata": {},
   "outputs": [
    {
     "name": "stdout",
     "output_type": "stream",
     "text": [
      "3043\n"
     ]
    }
   ],
   "source": [
    "print(df[\"Annual_income\"].count())\n"
   ]
  },
  {
   "cell_type": "code",
   "execution_count": 21,
   "id": "4e2fcf38",
   "metadata": {},
   "outputs": [
    {
     "name": "stdout",
     "output_type": "stream",
     "text": [
      "3043\n"
     ]
    }
   ],
   "source": [
    "print(df[\"Academic_year\"].count())"
   ]
  },
  {
   "cell_type": "code",
   "execution_count": 24,
   "id": "7a3a560a",
   "metadata": {},
   "outputs": [
    {
     "name": "stdout",
     "output_type": "stream",
     "text": [
      "3043\n"
     ]
    }
   ],
   "source": [
    "print(df[\"Semister_Attendence(%)\"].count())"
   ]
  },
  {
   "cell_type": "code",
   "execution_count": 26,
   "id": "d65a9703",
   "metadata": {},
   "outputs": [
    {
     "data": {
      "image/png": "[encoded data removed]",
      "text/plain": [
       "<Figure size 360x360 with 1 Axes>"
      ]
     },
     "metadata": {
      "needs_background": "light"
     },
     "output_type": "display_data"
    }
   ],
   "source": [
    "import seaborn as sns\n",
    "sns.displot(df[\"GPA\"])\n",
    "plt.show()"
   ]
  },
  {
   "cell_type": "code",
   "execution_count": 28,
   "id": "b386a2a6",
   "metadata": {},
   "outputs": [
    {
     "name": "stderr",
     "output_type": "stream",
     "text": [
      "C:\\Users\\Lenovo\\anaconda3\\lib\\site-packages\\seaborn\\_decorators.py:36: FutureWarning: Pass the following variable as a keyword arg: x. From version 0.12, the only valid positional argument will be `data`, and passing other arguments without an explicit keyword will result in an error or misinterpretation.\n",
      "  warnings.warn(\n"
     ]
    },
    {
     "data": {
      "image/png": "[encoded data removed]",
      "text/plain": [
       "<Figure size 432x288 with 1 Axes>"
      ]
     },
     "metadata": {
      "needs_background": "light"
     },
     "output_type": "display_data"
    }
   ],
   "source": [
    "import matplotlib.pyplot as plt\n",
    "sns.countplot(df[\"GPA\"])\n",
    "plt.show()"
   ]
  },
  {
   "cell_type": "code",
   "execution_count": 32,
   "id": "5c368c92",
   "metadata": {},
   "outputs": [
    {
     "data": {
      "image/png": "[encoded data removed]",
      "text/plain": [
       "<Figure size 432x288 with 1 Axes>"
      ]
     },
     "metadata": {
      "needs_background": "light"
     },
     "output_type": "display_data"
    }
   ],
   "source": [
    "sns.countplot(df[\"Annual_income\"])\n",
    "plt.show()"
   ]
  }
 ],
 "metadata": {
  "kernelspec": {
   "display_name": "Python 3 (ipykernel)",
   "language": "python",
   "name": "python3"
  },
  "language_info": {
   "codemirror_mode": {
    "name": "ipython",
    "version": 3
   },
   "file_extension": ".py",
   "mimetype": "text/x-python",
   "name": "python",
   "nbconvert_exporter": "python",
   "pygments_lexer": "ipython3",
   "version": "3.9.7"
  }
 },
 "nbformat": 4,
 "nbformat_minor": 5
}
