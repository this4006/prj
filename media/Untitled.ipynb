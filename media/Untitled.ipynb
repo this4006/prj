{
 "cells": [
  {
   "cell_type": "code",
   "execution_count": 10,
   "id": "0beaf87c",
   "metadata": {},
   "outputs": [],
   "source": [
    "import pandas as pd"
   ]
  },
  {
   "cell_type": "code",
   "execution_count": 11,
   "id": "675d7f2b",
   "metadata": {},
   "outputs": [
    {
     "name": "stdout",
     "output_type": "stream",
     "text": [
      "      Academic_year  Semister_attendence  GPA  Annual_income  \\\n",
      "0              2018                   91  8.2          92253   \n",
      "1              2018                   74  7.2         119586   \n",
      "2              2018                   72  6.8          58060   \n",
      "3              2018                   90  6.2         115405   \n",
      "4              2018                   72  5.7         114412   \n",
      "...             ...                  ...  ...            ...   \n",
      "3038           2009                   69  5.7          89507   \n",
      "3039           2009                   85  4.4          74709   \n",
      "3040           2009                   75  5.8          90724   \n",
      "3041           2009                   73  4.8         114799   \n",
      "3042           2009                   74  9.1          84030   \n",
      "\n",
      "      Scholarship_rupees   \n",
      "0                41369.45  \n",
      "1                36698.20  \n",
      "2                44570.34  \n",
      "3                48127.63  \n",
      "4                50615.13  \n",
      "...                   ...  \n",
      "3038             35712.37  \n",
      "3039             35577.11  \n",
      "3040             42894.88  \n",
      "3041             36515.63  \n",
      "3042             44036.44  \n",
      "\n",
      "[3043 rows x 5 columns]\n"
     ]
    }
   ],
   "source": [
    "df = pd.read_csv(\"main.csv\")\n",
    "print(df)"
   ]
  },
  {
   "cell_type": "code",
   "execution_count": 13,
   "id": "58838141",
   "metadata": {},
   "outputs": [
    {
     "data": {
      "text/html": [
       "<div>\n",
       "<style scoped>\n",
       "    .dataframe tbody tr th:only-of-type {\n",
       "        vertical-align: middle;\n",
       "    }\n",
       "\n",
       "    .dataframe tbody tr th {\n",
       "        vertical-align: top;\n",
       "    }\n",
       "\n",
       "    .dataframe thead th {\n",
       "        text-align: right;\n",
       "    }\n",
       "</style>\n",
       "<table border=\"1\" class=\"dataframe\">\n",
       "  <thead>\n",
       "    <tr style=\"text-align: right;\">\n",
       "      <th></th>\n",
       "      <th>Academic_year</th>\n",
       "      <th>Semister_attendence</th>\n",
       "      <th>GPA</th>\n",
       "      <th>Annual_income</th>\n",
       "      <th>Scholarship_rupees</th>\n",
       "    </tr>\n",
       "  </thead>\n",
       "  <tbody>\n",
       "    <tr>\n",
       "      <th>0</th>\n",
       "      <td>2018</td>\n",
       "      <td>91</td>\n",
       "      <td>8.2</td>\n",
       "      <td>92253</td>\n",
       "      <td>41369.45</td>\n",
       "    </tr>\n",
       "    <tr>\n",
       "      <th>1</th>\n",
       "      <td>2018</td>\n",
       "      <td>74</td>\n",
       "      <td>7.2</td>\n",
       "      <td>119586</td>\n",
       "      <td>36698.20</td>\n",
       "    </tr>\n",
       "    <tr>\n",
       "      <th>2</th>\n",
       "      <td>2018</td>\n",
       "      <td>72</td>\n",
       "      <td>6.8</td>\n",
       "      <td>58060</td>\n",
       "      <td>44570.34</td>\n",
       "    </tr>\n",
       "    <tr>\n",
       "      <th>3</th>\n",
       "      <td>2018</td>\n",
       "      <td>90</td>\n",
       "      <td>6.2</td>\n",
       "      <td>115405</td>\n",
       "      <td>48127.63</td>\n",
       "    </tr>\n",
       "    <tr>\n",
       "      <th>4</th>\n",
       "      <td>2018</td>\n",
       "      <td>72</td>\n",
       "      <td>5.7</td>\n",
       "      <td>114412</td>\n",
       "      <td>50615.13</td>\n",
       "    </tr>\n",
       "  </tbody>\n",
       "</table>\n",
       "</div>"
      ],
      "text/plain": [
       "   Academic_year  Semister_attendence  GPA  Annual_income  Scholarship_rupees \n",
       "0           2018                   91  8.2          92253             41369.45\n",
       "1           2018                   74  7.2         119586             36698.20\n",
       "2           2018                   72  6.8          58060             44570.34\n",
       "3           2018                   90  6.2         115405             48127.63\n",
       "4           2018                   72  5.7         114412             50615.13"
      ]
     },
     "execution_count": 13,
     "metadata": {},
     "output_type": "execute_result"
    }
   ],
   "source": [
    "df.head()"
   ]
  },
  {
   "cell_type": "code",
   "execution_count": 15,
   "id": "be538d41",
   "metadata": {},
   "outputs": [
    {
     "name": "stdout",
     "output_type": "stream",
     "text": [
      "<class 'pandas.core.frame.DataFrame'>\n",
      "RangeIndex: 3043 entries, 0 to 3042\n",
      "Data columns (total 5 columns):\n",
      " #   Column               Non-Null Count  Dtype  \n",
      "---  ------               --------------  -----  \n",
      " 0   Academic_year        3043 non-null   int64  \n",
      " 1   Semister_attendence  3043 non-null   int64  \n",
      " 2   GPA                  3043 non-null   float64\n",
      " 3   Annual_income        3043 non-null   int64  \n",
      " 4   Scholarship_rupees   3043 non-null   float64\n",
      "dtypes: float64(2), int64(3)\n",
      "memory usage: 119.0 KB\n"
     ]
    }
   ],
   "source": [
    "df.info()"
   ]
  },
  {
   "cell_type": "code",
   "execution_count": 17,
   "id": "a12cfc8a",
   "metadata": {},
   "outputs": [
    {
     "data": {
      "text/plain": [
       "(3043, 5)"
      ]
     },
     "execution_count": 17,
     "metadata": {},
     "output_type": "execute_result"
    }
   ],
   "source": [
    "df.shape"
   ]
  },
  {
   "cell_type": "code",
   "execution_count": 21,
   "id": "8010ebca",
   "metadata": {},
   "outputs": [
    {
     "name": "stderr",
     "output_type": "stream",
     "text": [
      "C:\\Users\\Lenovo\\anaconda3\\lib\\site-packages\\seaborn\\distributions.py:2619: FutureWarning: `distplot` is a deprecated function and will be removed in a future version. Please adapt your code to use either `displot` (a figure-level function with similar flexibility) or `histplot` (an axes-level function for histograms).\n",
      "  warnings.warn(msg, FutureWarning)\n"
     ]
    },
    {
     "data": {
      "image/png": "[encoded data removed]",
      "text/plain": [
       "<Figure size 432x288 with 1 Axes>"
      ]
     },
     "metadata": {
      "needs_background": "light"
     },
     "output_type": "display_data"
    }
   ],
   "source": [
    "import seaborn as sns\n",
    "import matplotlib.pyplot as plt\n",
    "sns.distplot(df[\"GPA\"])\n",
    "plt.show()"
   ]
  },
  {
   "cell_type": "code",
   "execution_count": 24,
   "id": "77165e84",
   "metadata": {},
   "outputs": [
    {
     "name": "stderr",
     "output_type": "stream",
     "text": [
      "C:\\Users\\Lenovo\\anaconda3\\lib\\site-packages\\seaborn\\_decorators.py:36: FutureWarning: Pass the following variable as a keyword arg: x. From version 0.12, the only valid positional argument will be `data`, and passing other arguments without an explicit keyword will result in an error or misinterpretation.\n",
      "  warnings.warn(\n"
     ]
    },
    {
     "data": {
      "image/png": "[encoded data removed]",
      "text/plain": [
       "<Figure size 432x288 with 1 Axes>"
      ]
     },
     "metadata": {
      "needs_background": "light"
     },
     "output_type": "display_data"
    }
   ],
   "source": [
    "sns.countplot(df[\"GPA\"])\n",
    "plt.show()"
   ]
  },
  {
   "cell_type": "code",
   "execution_count": 25,
   "id": "f4d6f4d1",
   "metadata": {},
   "outputs": [
    {
     "name": "stderr",
     "output_type": "stream",
     "text": [
      "C:\\Users\\Lenovo\\anaconda3\\lib\\site-packages\\seaborn\\_decorators.py:36: FutureWarning: Pass the following variable as a keyword arg: x. From version 0.12, the only valid positional argument will be `data`, and passing other arguments without an explicit keyword will result in an error or misinterpretation.\n",
      "  warnings.warn(\n"
     ]
    },
    {
     "data": {
      "image/png": "[encoded data removed]",
      "text/plain": [
       "<Figure size 432x288 with 1 Axes>"
      ]
     },
     "metadata": {
      "needs_background": "light"
     },
     "output_type": "display_data"
    }
   ],
   "source": [
    "sns.countplot(df[\"Semister_attendence\"])\n",
    "plt.show()"
   ]
  }
 ],
 "metadata": {
  "kernelspec": {
   "display_name": "Python 3 (ipykernel)",
   "language": "python",
   "name": "python3"
  },
  "language_info": {
   "codemirror_mode": {
    "name": "ipython",
    "version": 3
   },
   "file_extension": ".py",
   "mimetype": "text/x-python",
   "name": "python",
   "nbconvert_exporter": "python",
   "pygments_lexer": "ipython3",
   "version": "3.9.7"
  }
 },
 "nbformat": 4,
 "nbformat_minor": 5
}
