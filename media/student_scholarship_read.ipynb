{
 "cells": [
  {
   "cell_type": "code",
   "execution_count": 57,
   "id": "563b0a2d",
   "metadata": {},
   "outputs": [],
   "source": [
    "#from re import *\n",
    "import pandas as pd\n",
    "# from sklearn.metrics import confusion_matrix,accuracy_score,precision_score,recall_score,f1_score\n",
    "\n",
    "#path = settings.MEDIA_ROOT + \"\\\\\" + \n",
    "data=pd.read_csv(\"dataset.csv\")\n",
    "\n",
    "data_1 = data.drop([\"TAP_College_Code\",\"TAP_Sector_Group\",\"TAP_College_Name\",\"prev_scholarship\",\"family_Employees\",\"Scholarship_Headcount\",\"Active_Student\",\"Family_Card\",\"Academic_year\",\"Semister_Attendence(%)\",\"GPA\",\"Marks\"],axis=1)\n",
    "x = data_1.iloc[:, 0:12]\n",
    "y = data_1.iloc[:,-1]\n",
    "x = pd.get_dummies(x)\n",
    "\n",
    "from sklearn.model_selection import train_test_split\n",
    "\n",
    "x_train,x_test,y_train,y_test = train_test_split(x,y,test_size=0.20,random_state=0)\n",
    "\n",
    "from sklearn.preprocessing import StandardScaler\n",
    "sc = StandardScaler()\n",
    "# x_train = sc.fit(x_train,y_train)\n",
    "# x_test = sc.fit(x_test)\n",
    "\n",
    "x_train = sc.fit_transform(x_train,y_train)\n",
    "x_test = sc.fit_transform(x_test)\n",
    "# x_train=pd.DataFrame(x_train)\n",
    "# print(x_train.shape)\n",
    "# print(y_train.shape)\n",
    "\n",
    "def processSVM():\n",
    "    \n",
    "    from sklearn.svm import SVC\n",
    "    from sklearn.metrics import accuracy_score\n",
    "\n",
    "    m1 = SVC()\n",
    "    m1.fit(x_train, y_train)\n",
    "    y_pred = m1.predict(x_test)\n",
    "    accuracy = metrics.accuracy_score(y_test,y_pred)  \n",
    "    print(\"Accuracy:\",accuracy)\n",
    "\n",
    "# processSVM()"
   ]
  },
  {
   "cell_type": "code",
   "execution_count": null,
   "id": "a11e5b52",
   "metadata": {},
   "outputs": [],
   "source": []
  },
  {
   "cell_type": "code",
   "execution_count": null,
   "id": "d22a3a21",
   "metadata": {},
   "outputs": [],
   "source": []
  },
  {
   "cell_type": "code",
   "execution_count": null,
   "id": "873943d7",
   "metadata": {},
   "outputs": [],
   "source": []
  },
  {
   "cell_type": "code",
   "execution_count": null,
   "id": "48d55ffb",
   "metadata": {},
   "outputs": [],
   "source": []
  },
  {
   "cell_type": "code",
   "execution_count": null,
   "id": "d0180544",
   "metadata": {},
   "outputs": [],
   "source": []
  },
  {
   "cell_type": "code",
   "execution_count": null,
   "id": "988ec285",
   "metadata": {},
   "outputs": [],
   "source": []
  },
  {
   "cell_type": "code",
   "execution_count": null,
   "id": "f41c3b85",
   "metadata": {},
   "outputs": [],
   "source": []
  }
 ],
 "metadata": {
  "kernelspec": {
   "display_name": "Python 3 (ipykernel)",
   "language": "python",
   "name": "python3"
  },
  "language_info": {
   "codemirror_mode": {
    "name": "ipython",
    "version": 3
   },
   "file_extension": ".py",
   "mimetype": "text/x-python",
   "name": "python",
   "nbconvert_exporter": "python",
   "pygments_lexer": "ipython3",
   "version": "3.7.2"
  }
 },
 "nbformat": 4,
 "nbformat_minor": 5
}
