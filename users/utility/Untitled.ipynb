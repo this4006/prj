{
 "cells": [
  {
   "cell_type": "code",
   "execution_count": 3,
   "id": "189536ea",
   "metadata": {},
   "outputs": [],
   "source": [
    "#from re import *\n",
    "import pandas as pd\n",
    "import csv\n",
    "from sklearn import metrics\n",
    "from sklearn.metrics import confusion_matrix,accuracy_score,precision_score,recall_score,f1_score\n",
    "\n",
    "#path = settings.MEDIA_ROOT + \"\\\\\" + \n",
    "data=pd.read_csv(r\"C:\\Users\\Lenovo\\dataset.csv\")\n",
    "#print(data)\n",
    "data_1 = data.drop([\"TAP_College_Code\",\"TAP_Sector_Group\",\"TAP_College_Name\",\"prev_scholarship\",\"family_Employees\",\"Scholarship_Headcount\",\"Active_Student\",\"Family_Card\",\"Academic_year\",\"Semister_Attendence(%)\",\"GPA\",\"Marks\"],axis=1)\n",
    "x = data_1.iloc[:, 0:12]\n",
    "y = data_1.iloc[:,-1]\n",
    "x = pd.get_dummies(x)\n",
    "\n",
    "from sklearn.preprocessing import LabelEncoder\n",
    "# lEncoder_x= LabelEncoder()\n",
    "# x.iloc[:,0] = lEncoder_x.fit_transform(x.iloc[:,0])\n",
    "\n",
    "# from sklearn.preprocessing import OneHotEncoder\n",
    "# from sklearn.compose import ColumnTransformer\n",
    "# ct = ColumnTransformer([('one_hot_encoder', OneHotEncoder(), [0])], remainder = 'passthrough')\n",
    "\n",
    "# LabelEncoder_y = LabelEncoder()\n",
    "# y.iloc[:,-1]  =LabelEncoder_y.fit_transform(y.iloc[:,-1])\n",
    "\n",
    "from sklearn.model_selection import train_test_split\n",
    "x_train,x_test,y_train,y_test = train_test_split(x,y,test_size=0.20,random_state=0)\n",
    "\n",
    "\n",
    "from sklearn.preprocessing import StandardScaler\n",
    "sc = StandardScaler()\n",
    "\n",
    "x_train = sc.fit_transform(x_train,y_train)\n",
    "x_test = sc.fit_transform(x_test)\n",
    "    \n",
    "def processSVM():\n",
    "        from sklearn.svm import SVC\n",
    "        from sklearn.metrics import confusion_matrix\n",
    "        \n",
    "        model = SVC()\n",
    "        print(x_train.shape)\n",
    "        print(y_train.shape)\n",
    "    \n",
    "        model.fit(x_train)\n",
    "        \n",
    "        \n",
    "        y_pred = model.predict(x_test)\n",
    "        print(\"Training Accuracy :\", model.score(x_train, y_train))\n",
    "        print(\"Testing Accuaracy :\", model.score(x_test, y_test))\n",
    "        cm = confusion_matrix(y_test, y_pred)\n",
    "        print(cm)\n",
    "        \n",
    "        dt_acc = accuracy_score(y_test, y_pred)\n",
    "        \n",
    "        print(dt_acc)\n",
    "        print(y_pred)\n",
    "       \n",
    "        dt_precc = precision_score(y_test, y_pred, pos_label = 0)\n",
    "        print(dt_precc)\n",
    "        dt_recall = recall_score(y_test, y_pred,pos_label = 0)\n",
    "        print(dt_recall)\n",
    "       \n",
    "        dt_f1 = f1_score(y_test, y_pred ,pos_label = 0)\n",
    "        print(dt_f1)\n",
    "        #dt_auc = roc_auc_score(self.y_test, y_pred, average=None)\n",
    "        \n",
    "\n",
    "        # k fold cross validatio\n",
    "        from sklearn.model_selection import cross_val_score\n",
    "        cvs = cross_val_score(estimator=model, X=x_train, y=y_train, cv=10)\n",
    "        print(cvs)\n",
    "\n",
    "        return dt_acc,dt_recall,dt_precc,dt_f1  "
   ]
  },
  {
   "cell_type": "code",
   "execution_count": null,
   "id": "33247e88",
   "metadata": {},
   "outputs": [],
   "source": []
  },
  {
   "cell_type": "code",
   "execution_count": null,
   "id": "db91c869",
   "metadata": {},
   "outputs": [],
   "source": []
  },
  {
   "cell_type": "code",
   "execution_count": null,
   "id": "53dfbf34",
   "metadata": {},
   "outputs": [],
   "source": []
  },
  {
   "cell_type": "code",
   "execution_count": null,
   "id": "f6cca949",
   "metadata": {},
   "outputs": [],
   "source": []
  },
  {
   "cell_type": "code",
   "execution_count": null,
   "id": "5f9b9c98",
   "metadata": {},
   "outputs": [],
   "source": []
  },
  {
   "cell_type": "code",
   "execution_count": null,
   "id": "f3cd132b",
   "metadata": {},
   "outputs": [],
   "source": []
  },
  {
   "cell_type": "code",
   "execution_count": null,
   "id": "2795e758",
   "metadata": {},
   "outputs": [],
   "source": []
  },
  {
   "cell_type": "code",
   "execution_count": null,
   "id": "6fb83875",
   "metadata": {},
   "outputs": [],
   "source": []
  },
  {
   "cell_type": "code",
   "execution_count": null,
   "id": "3312144a",
   "metadata": {},
   "outputs": [],
   "source": []
  },
  {
   "cell_type": "code",
   "execution_count": null,
   "id": "c58d3c80",
   "metadata": {},
   "outputs": [],
   "source": []
  },
  {
   "cell_type": "code",
   "execution_count": null,
   "id": "c7c577a6",
   "metadata": {},
   "outputs": [],
   "source": []
  },
  {
   "cell_type": "code",
   "execution_count": null,
   "id": "3d4b7cb9",
   "metadata": {},
   "outputs": [],
   "source": []
  },
  {
   "cell_type": "code",
   "execution_count": null,
   "id": "0bcea722",
   "metadata": {},
   "outputs": [],
   "source": []
  },
  {
   "cell_type": "code",
   "execution_count": null,
   "id": "758de803",
   "metadata": {},
   "outputs": [],
   "source": []
  }
 ],
 "metadata": {
  "kernelspec": {
   "display_name": "Python 3 (ipykernel)",
   "language": "python",
   "name": "python3"
  },
  "language_info": {
   "codemirror_mode": {
    "name": "ipython",
    "version": 3
   },
   "file_extension": ".py",
   "mimetype": "text/x-python",
   "name": "python",
   "nbconvert_exporter": "python",
   "pygments_lexer": "ipython3",
   "version": "3.7.2"
  }
 },
 "nbformat": 4,
 "nbformat_minor": 5
}
